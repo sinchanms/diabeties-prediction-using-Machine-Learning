{
  "nbformat": 4,
  "nbformat_minor": 0,
  "metadata": {
    "colab": {
      "name": "exposyslabs_intern.ipynb",
      "provenance": [],
      "collapsed_sections": []
    },
    "kernelspec": {
      "name": "python3",
      "display_name": "Python 3"
    },
    "language_info": {
      "name": "python"
    }
  },
  "cells": [
    {
      "cell_type": "code",
      "metadata": {
        "id": "yp0D2zwiJkVH"
      },
      "source": [
        "import pandas as pd\n",
        "import numpy as np\n",
        "import matplotlib.pyplot as plt\n",
        "import seaborn as sns\n",
        "import keras\n",
        "\n",
        "\n",
        "from keras.layers import Dense\n",
        "from keras.models import Sequential\n",
        "from sklearn.model_selection import train_test_split\n",
        "from sklearn.preprocessing import StandardScaler\n",
        "from sklearn.metrics import confusion_matrix\n",
        "from sklearn.tree import DecisionTreeClassifier # Import Decision Tree Classifier\n",
        "from sklearn.linear_model import LogisticRegression\n",
        "\n",
        "from sklearn.neighbors import KNeighborsClassifier\n",
        "from sklearn.svm import SVC\n",
        "from sklearn.naive_bayes import GaussianNB\n",
        "from sklearn.ensemble import RandomForestClassifier\n",
        "from sklearn import metrics"
      ],
      "execution_count": 105,
      "outputs": []
    },
    {
      "cell_type": "code",
      "metadata": {
        "colab": {
          "base_uri": "https://localhost:8080/",
          "height": 225
        },
        "id": "Hql-72RDJ58E",
        "outputId": "10b4a068-cd99-469a-d047-f249946747e6"
      },
      "source": [
        "df=pd.read_csv('diabetes.csv')\n",
        "print(\"Shape\",df.shape)\n",
        "df.head()"
      ],
      "execution_count": 106,
      "outputs": [
        {
          "output_type": "stream",
          "text": [
            "Shape (768, 9)\n"
          ],
          "name": "stdout"
        },
        {
          "output_type": "execute_result",
          "data": {
            "text/html": [
              "<div>\n",
              "<style scoped>\n",
              "    .dataframe tbody tr th:only-of-type {\n",
              "        vertical-align: middle;\n",
              "    }\n",
              "\n",
              "    .dataframe tbody tr th {\n",
              "        vertical-align: top;\n",
              "    }\n",
              "\n",
              "    .dataframe thead th {\n",
              "        text-align: right;\n",
              "    }\n",
              "</style>\n",
              "<table border=\"1\" class=\"dataframe\">\n",
              "  <thead>\n",
              "    <tr style=\"text-align: right;\">\n",
              "      <th></th>\n",
              "      <th>Pregnancies</th>\n",
              "      <th>Glucose</th>\n",
              "      <th>BloodPressure</th>\n",
              "      <th>SkinThickness</th>\n",
              "      <th>Insulin</th>\n",
              "      <th>BMI</th>\n",
              "      <th>DiabetesPedigreeFunction</th>\n",
              "      <th>Age</th>\n",
              "      <th>Outcome</th>\n",
              "    </tr>\n",
              "  </thead>\n",
              "  <tbody>\n",
              "    <tr>\n",
              "      <th>0</th>\n",
              "      <td>6</td>\n",
              "      <td>148</td>\n",
              "      <td>72</td>\n",
              "      <td>35</td>\n",
              "      <td>0</td>\n",
              "      <td>33.6</td>\n",
              "      <td>0.627</td>\n",
              "      <td>50</td>\n",
              "      <td>1</td>\n",
              "    </tr>\n",
              "    <tr>\n",
              "      <th>1</th>\n",
              "      <td>1</td>\n",
              "      <td>85</td>\n",
              "      <td>66</td>\n",
              "      <td>29</td>\n",
              "      <td>0</td>\n",
              "      <td>26.6</td>\n",
              "      <td>0.351</td>\n",
              "      <td>31</td>\n",
              "      <td>0</td>\n",
              "    </tr>\n",
              "    <tr>\n",
              "      <th>2</th>\n",
              "      <td>8</td>\n",
              "      <td>183</td>\n",
              "      <td>64</td>\n",
              "      <td>0</td>\n",
              "      <td>0</td>\n",
              "      <td>23.3</td>\n",
              "      <td>0.672</td>\n",
              "      <td>32</td>\n",
              "      <td>1</td>\n",
              "    </tr>\n",
              "    <tr>\n",
              "      <th>3</th>\n",
              "      <td>1</td>\n",
              "      <td>89</td>\n",
              "      <td>66</td>\n",
              "      <td>23</td>\n",
              "      <td>94</td>\n",
              "      <td>28.1</td>\n",
              "      <td>0.167</td>\n",
              "      <td>21</td>\n",
              "      <td>0</td>\n",
              "    </tr>\n",
              "    <tr>\n",
              "      <th>4</th>\n",
              "      <td>0</td>\n",
              "      <td>137</td>\n",
              "      <td>40</td>\n",
              "      <td>35</td>\n",
              "      <td>168</td>\n",
              "      <td>43.1</td>\n",
              "      <td>2.288</td>\n",
              "      <td>33</td>\n",
              "      <td>1</td>\n",
              "    </tr>\n",
              "  </tbody>\n",
              "</table>\n",
              "</div>"
            ],
            "text/plain": [
              "   Pregnancies  Glucose  BloodPressure  ...  DiabetesPedigreeFunction  Age  Outcome\n",
              "0            6      148             72  ...                     0.627   50        1\n",
              "1            1       85             66  ...                     0.351   31        0\n",
              "2            8      183             64  ...                     0.672   32        1\n",
              "3            1       89             66  ...                     0.167   21        0\n",
              "4            0      137             40  ...                     2.288   33        1\n",
              "\n",
              "[5 rows x 9 columns]"
            ]
          },
          "metadata": {
            "tags": []
          },
          "execution_count": 106
        }
      ]
    },
    {
      "cell_type": "code",
      "metadata": {
        "colab": {
          "base_uri": "https://localhost:8080/",
          "height": 300
        },
        "id": "OXMxdWgeLsqw",
        "outputId": "191f2c0e-0dab-4076-c020-63bdd855c756"
      },
      "source": [
        "df.describe()\n"
      ],
      "execution_count": 107,
      "outputs": [
        {
          "output_type": "execute_result",
          "data": {
            "text/html": [
              "<div>\n",
              "<style scoped>\n",
              "    .dataframe tbody tr th:only-of-type {\n",
              "        vertical-align: middle;\n",
              "    }\n",
              "\n",
              "    .dataframe tbody tr th {\n",
              "        vertical-align: top;\n",
              "    }\n",
              "\n",
              "    .dataframe thead th {\n",
              "        text-align: right;\n",
              "    }\n",
              "</style>\n",
              "<table border=\"1\" class=\"dataframe\">\n",
              "  <thead>\n",
              "    <tr style=\"text-align: right;\">\n",
              "      <th></th>\n",
              "      <th>Pregnancies</th>\n",
              "      <th>Glucose</th>\n",
              "      <th>BloodPressure</th>\n",
              "      <th>SkinThickness</th>\n",
              "      <th>Insulin</th>\n",
              "      <th>BMI</th>\n",
              "      <th>DiabetesPedigreeFunction</th>\n",
              "      <th>Age</th>\n",
              "      <th>Outcome</th>\n",
              "    </tr>\n",
              "  </thead>\n",
              "  <tbody>\n",
              "    <tr>\n",
              "      <th>count</th>\n",
              "      <td>768.000000</td>\n",
              "      <td>768.000000</td>\n",
              "      <td>768.000000</td>\n",
              "      <td>768.000000</td>\n",
              "      <td>768.000000</td>\n",
              "      <td>768.000000</td>\n",
              "      <td>768.000000</td>\n",
              "      <td>768.000000</td>\n",
              "      <td>768.000000</td>\n",
              "    </tr>\n",
              "    <tr>\n",
              "      <th>mean</th>\n",
              "      <td>3.845052</td>\n",
              "      <td>120.894531</td>\n",
              "      <td>69.105469</td>\n",
              "      <td>20.536458</td>\n",
              "      <td>79.799479</td>\n",
              "      <td>31.992578</td>\n",
              "      <td>0.471876</td>\n",
              "      <td>33.240885</td>\n",
              "      <td>0.348958</td>\n",
              "    </tr>\n",
              "    <tr>\n",
              "      <th>std</th>\n",
              "      <td>3.369578</td>\n",
              "      <td>31.972618</td>\n",
              "      <td>19.355807</td>\n",
              "      <td>15.952218</td>\n",
              "      <td>115.244002</td>\n",
              "      <td>7.884160</td>\n",
              "      <td>0.331329</td>\n",
              "      <td>11.760232</td>\n",
              "      <td>0.476951</td>\n",
              "    </tr>\n",
              "    <tr>\n",
              "      <th>min</th>\n",
              "      <td>0.000000</td>\n",
              "      <td>0.000000</td>\n",
              "      <td>0.000000</td>\n",
              "      <td>0.000000</td>\n",
              "      <td>0.000000</td>\n",
              "      <td>0.000000</td>\n",
              "      <td>0.078000</td>\n",
              "      <td>21.000000</td>\n",
              "      <td>0.000000</td>\n",
              "    </tr>\n",
              "    <tr>\n",
              "      <th>25%</th>\n",
              "      <td>1.000000</td>\n",
              "      <td>99.000000</td>\n",
              "      <td>62.000000</td>\n",
              "      <td>0.000000</td>\n",
              "      <td>0.000000</td>\n",
              "      <td>27.300000</td>\n",
              "      <td>0.243750</td>\n",
              "      <td>24.000000</td>\n",
              "      <td>0.000000</td>\n",
              "    </tr>\n",
              "    <tr>\n",
              "      <th>50%</th>\n",
              "      <td>3.000000</td>\n",
              "      <td>117.000000</td>\n",
              "      <td>72.000000</td>\n",
              "      <td>23.000000</td>\n",
              "      <td>30.500000</td>\n",
              "      <td>32.000000</td>\n",
              "      <td>0.372500</td>\n",
              "      <td>29.000000</td>\n",
              "      <td>0.000000</td>\n",
              "    </tr>\n",
              "    <tr>\n",
              "      <th>75%</th>\n",
              "      <td>6.000000</td>\n",
              "      <td>140.250000</td>\n",
              "      <td>80.000000</td>\n",
              "      <td>32.000000</td>\n",
              "      <td>127.250000</td>\n",
              "      <td>36.600000</td>\n",
              "      <td>0.626250</td>\n",
              "      <td>41.000000</td>\n",
              "      <td>1.000000</td>\n",
              "    </tr>\n",
              "    <tr>\n",
              "      <th>max</th>\n",
              "      <td>17.000000</td>\n",
              "      <td>199.000000</td>\n",
              "      <td>122.000000</td>\n",
              "      <td>99.000000</td>\n",
              "      <td>846.000000</td>\n",
              "      <td>67.100000</td>\n",
              "      <td>2.420000</td>\n",
              "      <td>81.000000</td>\n",
              "      <td>1.000000</td>\n",
              "    </tr>\n",
              "  </tbody>\n",
              "</table>\n",
              "</div>"
            ],
            "text/plain": [
              "       Pregnancies     Glucose  ...         Age     Outcome\n",
              "count   768.000000  768.000000  ...  768.000000  768.000000\n",
              "mean      3.845052  120.894531  ...   33.240885    0.348958\n",
              "std       3.369578   31.972618  ...   11.760232    0.476951\n",
              "min       0.000000    0.000000  ...   21.000000    0.000000\n",
              "25%       1.000000   99.000000  ...   24.000000    0.000000\n",
              "50%       3.000000  117.000000  ...   29.000000    0.000000\n",
              "75%       6.000000  140.250000  ...   41.000000    1.000000\n",
              "max      17.000000  199.000000  ...   81.000000    1.000000\n",
              "\n",
              "[8 rows x 9 columns]"
            ]
          },
          "metadata": {
            "tags": []
          },
          "execution_count": 107
        }
      ]
    },
    {
      "cell_type": "code",
      "metadata": {
        "colab": {
          "base_uri": "https://localhost:8080/"
        },
        "id": "R125ZHEYL3UX",
        "outputId": "ae8d6303-9876-4c73-929f-ecc009890b1a"
      },
      "source": [
        "df['Outcome'].value_counts()"
      ],
      "execution_count": 108,
      "outputs": [
        {
          "output_type": "execute_result",
          "data": {
            "text/plain": [
              "0    500\n",
              "1    268\n",
              "Name: Outcome, dtype: int64"
            ]
          },
          "metadata": {
            "tags": []
          },
          "execution_count": 108
        }
      ]
    },
    {
      "cell_type": "code",
      "metadata": {
        "colab": {
          "base_uri": "https://localhost:8080/",
          "height": 143
        },
        "id": "HI6XX9R2L9d0",
        "outputId": "aa1c6903-defe-40a0-8b0f-0f5961a746e2"
      },
      "source": [
        "df.groupby('Outcome').mean() "
      ],
      "execution_count": 109,
      "outputs": [
        {
          "output_type": "execute_result",
          "data": {
            "text/html": [
              "<div>\n",
              "<style scoped>\n",
              "    .dataframe tbody tr th:only-of-type {\n",
              "        vertical-align: middle;\n",
              "    }\n",
              "\n",
              "    .dataframe tbody tr th {\n",
              "        vertical-align: top;\n",
              "    }\n",
              "\n",
              "    .dataframe thead th {\n",
              "        text-align: right;\n",
              "    }\n",
              "</style>\n",
              "<table border=\"1\" class=\"dataframe\">\n",
              "  <thead>\n",
              "    <tr style=\"text-align: right;\">\n",
              "      <th></th>\n",
              "      <th>Pregnancies</th>\n",
              "      <th>Glucose</th>\n",
              "      <th>BloodPressure</th>\n",
              "      <th>SkinThickness</th>\n",
              "      <th>Insulin</th>\n",
              "      <th>BMI</th>\n",
              "      <th>DiabetesPedigreeFunction</th>\n",
              "      <th>Age</th>\n",
              "    </tr>\n",
              "    <tr>\n",
              "      <th>Outcome</th>\n",
              "      <th></th>\n",
              "      <th></th>\n",
              "      <th></th>\n",
              "      <th></th>\n",
              "      <th></th>\n",
              "      <th></th>\n",
              "      <th></th>\n",
              "      <th></th>\n",
              "    </tr>\n",
              "  </thead>\n",
              "  <tbody>\n",
              "    <tr>\n",
              "      <th>0</th>\n",
              "      <td>3.298000</td>\n",
              "      <td>109.980000</td>\n",
              "      <td>68.184000</td>\n",
              "      <td>19.664000</td>\n",
              "      <td>68.792000</td>\n",
              "      <td>30.304200</td>\n",
              "      <td>0.429734</td>\n",
              "      <td>31.190000</td>\n",
              "    </tr>\n",
              "    <tr>\n",
              "      <th>1</th>\n",
              "      <td>4.865672</td>\n",
              "      <td>141.257463</td>\n",
              "      <td>70.824627</td>\n",
              "      <td>22.164179</td>\n",
              "      <td>100.335821</td>\n",
              "      <td>35.142537</td>\n",
              "      <td>0.550500</td>\n",
              "      <td>37.067164</td>\n",
              "    </tr>\n",
              "  </tbody>\n",
              "</table>\n",
              "</div>"
            ],
            "text/plain": [
              "         Pregnancies     Glucose  ...  DiabetesPedigreeFunction        Age\n",
              "Outcome                           ...                                     \n",
              "0           3.298000  109.980000  ...                  0.429734  31.190000\n",
              "1           4.865672  141.257463  ...                  0.550500  37.067164\n",
              "\n",
              "[2 rows x 8 columns]"
            ]
          },
          "metadata": {
            "tags": []
          },
          "execution_count": 109
        }
      ]
    },
    {
      "cell_type": "code",
      "metadata": {
        "id": "a4mbNbXhMIpe"
      },
      "source": [
        "#seperating the data and labels\n",
        "X = df.drop(columns ='Outcome',axis=1)\n",
        "Y= df['Outcome']"
      ],
      "execution_count": 110,
      "outputs": []
    },
    {
      "cell_type": "code",
      "metadata": {
        "colab": {
          "base_uri": "https://localhost:8080/"
        },
        "id": "7so_6isOMOlw",
        "outputId": "1ab450a9-1c82-4670-e56d-b78489df1ad2"
      },
      "source": [
        "print(X)"
      ],
      "execution_count": 111,
      "outputs": [
        {
          "output_type": "stream",
          "text": [
            "     Pregnancies  Glucose  BloodPressure  ...   BMI  DiabetesPedigreeFunction  Age\n",
            "0              6      148             72  ...  33.6                     0.627   50\n",
            "1              1       85             66  ...  26.6                     0.351   31\n",
            "2              8      183             64  ...  23.3                     0.672   32\n",
            "3              1       89             66  ...  28.1                     0.167   21\n",
            "4              0      137             40  ...  43.1                     2.288   33\n",
            "..           ...      ...            ...  ...   ...                       ...  ...\n",
            "763           10      101             76  ...  32.9                     0.171   63\n",
            "764            2      122             70  ...  36.8                     0.340   27\n",
            "765            5      121             72  ...  26.2                     0.245   30\n",
            "766            1      126             60  ...  30.1                     0.349   47\n",
            "767            1       93             70  ...  30.4                     0.315   23\n",
            "\n",
            "[768 rows x 8 columns]\n"
          ],
          "name": "stdout"
        }
      ]
    },
    {
      "cell_type": "code",
      "metadata": {
        "colab": {
          "base_uri": "https://localhost:8080/"
        },
        "id": "VBU3Ujx1MRcc",
        "outputId": "fd85314a-37fa-4b83-fc48-705650bac2bf"
      },
      "source": [
        "print(Y)"
      ],
      "execution_count": 112,
      "outputs": [
        {
          "output_type": "stream",
          "text": [
            "0      1\n",
            "1      0\n",
            "2      1\n",
            "3      0\n",
            "4      1\n",
            "      ..\n",
            "763    0\n",
            "764    0\n",
            "765    0\n",
            "766    1\n",
            "767    0\n",
            "Name: Outcome, Length: 768, dtype: int64\n"
          ],
          "name": "stdout"
        }
      ]
    },
    {
      "cell_type": "code",
      "metadata": {
        "colab": {
          "base_uri": "https://localhost:8080/"
        },
        "id": "KmxqL7GtMbQv",
        "outputId": "a6ef5f82-b069-42d9-a3e9-5a57a11d482e"
      },
      "source": [
        "df.info()"
      ],
      "execution_count": 113,
      "outputs": [
        {
          "output_type": "stream",
          "text": [
            "<class 'pandas.core.frame.DataFrame'>\n",
            "RangeIndex: 768 entries, 0 to 767\n",
            "Data columns (total 9 columns):\n",
            " #   Column                    Non-Null Count  Dtype  \n",
            "---  ------                    --------------  -----  \n",
            " 0   Pregnancies               768 non-null    int64  \n",
            " 1   Glucose                   768 non-null    int64  \n",
            " 2   BloodPressure             768 non-null    int64  \n",
            " 3   SkinThickness             768 non-null    int64  \n",
            " 4   Insulin                   768 non-null    int64  \n",
            " 5   BMI                       768 non-null    float64\n",
            " 6   DiabetesPedigreeFunction  768 non-null    float64\n",
            " 7   Age                       768 non-null    int64  \n",
            " 8   Outcome                   768 non-null    int64  \n",
            "dtypes: float64(2), int64(7)\n",
            "memory usage: 54.1 KB\n"
          ],
          "name": "stdout"
        }
      ]
    },
    {
      "cell_type": "code",
      "metadata": {
        "colab": {
          "base_uri": "https://localhost:8080/",
          "height": 332
        },
        "id": "d6vJ-BrZMjAj",
        "outputId": "cf17ec1d-5ca1-4573-f50d-1b601d231b3a"
      },
      "source": [
        "df.corr()"
      ],
      "execution_count": 114,
      "outputs": [
        {
          "output_type": "execute_result",
          "data": {
            "text/html": [
              "<div>\n",
              "<style scoped>\n",
              "    .dataframe tbody tr th:only-of-type {\n",
              "        vertical-align: middle;\n",
              "    }\n",
              "\n",
              "    .dataframe tbody tr th {\n",
              "        vertical-align: top;\n",
              "    }\n",
              "\n",
              "    .dataframe thead th {\n",
              "        text-align: right;\n",
              "    }\n",
              "</style>\n",
              "<table border=\"1\" class=\"dataframe\">\n",
              "  <thead>\n",
              "    <tr style=\"text-align: right;\">\n",
              "      <th></th>\n",
              "      <th>Pregnancies</th>\n",
              "      <th>Glucose</th>\n",
              "      <th>BloodPressure</th>\n",
              "      <th>SkinThickness</th>\n",
              "      <th>Insulin</th>\n",
              "      <th>BMI</th>\n",
              "      <th>DiabetesPedigreeFunction</th>\n",
              "      <th>Age</th>\n",
              "      <th>Outcome</th>\n",
              "    </tr>\n",
              "  </thead>\n",
              "  <tbody>\n",
              "    <tr>\n",
              "      <th>Pregnancies</th>\n",
              "      <td>1.000000</td>\n",
              "      <td>0.129459</td>\n",
              "      <td>0.141282</td>\n",
              "      <td>-0.081672</td>\n",
              "      <td>-0.073535</td>\n",
              "      <td>0.017683</td>\n",
              "      <td>-0.033523</td>\n",
              "      <td>0.544341</td>\n",
              "      <td>0.221898</td>\n",
              "    </tr>\n",
              "    <tr>\n",
              "      <th>Glucose</th>\n",
              "      <td>0.129459</td>\n",
              "      <td>1.000000</td>\n",
              "      <td>0.152590</td>\n",
              "      <td>0.057328</td>\n",
              "      <td>0.331357</td>\n",
              "      <td>0.221071</td>\n",
              "      <td>0.137337</td>\n",
              "      <td>0.263514</td>\n",
              "      <td>0.466581</td>\n",
              "    </tr>\n",
              "    <tr>\n",
              "      <th>BloodPressure</th>\n",
              "      <td>0.141282</td>\n",
              "      <td>0.152590</td>\n",
              "      <td>1.000000</td>\n",
              "      <td>0.207371</td>\n",
              "      <td>0.088933</td>\n",
              "      <td>0.281805</td>\n",
              "      <td>0.041265</td>\n",
              "      <td>0.239528</td>\n",
              "      <td>0.065068</td>\n",
              "    </tr>\n",
              "    <tr>\n",
              "      <th>SkinThickness</th>\n",
              "      <td>-0.081672</td>\n",
              "      <td>0.057328</td>\n",
              "      <td>0.207371</td>\n",
              "      <td>1.000000</td>\n",
              "      <td>0.436783</td>\n",
              "      <td>0.392573</td>\n",
              "      <td>0.183928</td>\n",
              "      <td>-0.113970</td>\n",
              "      <td>0.074752</td>\n",
              "    </tr>\n",
              "    <tr>\n",
              "      <th>Insulin</th>\n",
              "      <td>-0.073535</td>\n",
              "      <td>0.331357</td>\n",
              "      <td>0.088933</td>\n",
              "      <td>0.436783</td>\n",
              "      <td>1.000000</td>\n",
              "      <td>0.197859</td>\n",
              "      <td>0.185071</td>\n",
              "      <td>-0.042163</td>\n",
              "      <td>0.130548</td>\n",
              "    </tr>\n",
              "    <tr>\n",
              "      <th>BMI</th>\n",
              "      <td>0.017683</td>\n",
              "      <td>0.221071</td>\n",
              "      <td>0.281805</td>\n",
              "      <td>0.392573</td>\n",
              "      <td>0.197859</td>\n",
              "      <td>1.000000</td>\n",
              "      <td>0.140647</td>\n",
              "      <td>0.036242</td>\n",
              "      <td>0.292695</td>\n",
              "    </tr>\n",
              "    <tr>\n",
              "      <th>DiabetesPedigreeFunction</th>\n",
              "      <td>-0.033523</td>\n",
              "      <td>0.137337</td>\n",
              "      <td>0.041265</td>\n",
              "      <td>0.183928</td>\n",
              "      <td>0.185071</td>\n",
              "      <td>0.140647</td>\n",
              "      <td>1.000000</td>\n",
              "      <td>0.033561</td>\n",
              "      <td>0.173844</td>\n",
              "    </tr>\n",
              "    <tr>\n",
              "      <th>Age</th>\n",
              "      <td>0.544341</td>\n",
              "      <td>0.263514</td>\n",
              "      <td>0.239528</td>\n",
              "      <td>-0.113970</td>\n",
              "      <td>-0.042163</td>\n",
              "      <td>0.036242</td>\n",
              "      <td>0.033561</td>\n",
              "      <td>1.000000</td>\n",
              "      <td>0.238356</td>\n",
              "    </tr>\n",
              "    <tr>\n",
              "      <th>Outcome</th>\n",
              "      <td>0.221898</td>\n",
              "      <td>0.466581</td>\n",
              "      <td>0.065068</td>\n",
              "      <td>0.074752</td>\n",
              "      <td>0.130548</td>\n",
              "      <td>0.292695</td>\n",
              "      <td>0.173844</td>\n",
              "      <td>0.238356</td>\n",
              "      <td>1.000000</td>\n",
              "    </tr>\n",
              "  </tbody>\n",
              "</table>\n",
              "</div>"
            ],
            "text/plain": [
              "                          Pregnancies   Glucose  ...       Age   Outcome\n",
              "Pregnancies                  1.000000  0.129459  ...  0.544341  0.221898\n",
              "Glucose                      0.129459  1.000000  ...  0.263514  0.466581\n",
              "BloodPressure                0.141282  0.152590  ...  0.239528  0.065068\n",
              "SkinThickness               -0.081672  0.057328  ... -0.113970  0.074752\n",
              "Insulin                     -0.073535  0.331357  ... -0.042163  0.130548\n",
              "BMI                          0.017683  0.221071  ...  0.036242  0.292695\n",
              "DiabetesPedigreeFunction    -0.033523  0.137337  ...  0.033561  0.173844\n",
              "Age                          0.544341  0.263514  ...  1.000000  0.238356\n",
              "Outcome                      0.221898  0.466581  ...  0.238356  1.000000\n",
              "\n",
              "[9 rows x 9 columns]"
            ]
          },
          "metadata": {
            "tags": []
          },
          "execution_count": 114
        }
      ]
    },
    {
      "cell_type": "code",
      "metadata": {
        "colab": {
          "base_uri": "https://localhost:8080/",
          "height": 1000
        },
        "id": "L8EzJTmFMwg6",
        "outputId": "c630aaf2-3baa-4215-9500-b6bc37e13da9"
      },
      "source": [
        "fig = plt.figure(figsize = (19,15))\n",
        "plt.matshow(df.corr()**2,fignum = fig.number)\n",
        "plt.xticks(range(df.shape[1]),df.columns,fontsize = 14, rotation = 45)\n",
        "plt.yticks(range(df.shape[1]),df.columns,fontsize = 14)\n",
        "cb = plt.colorbar()\n",
        "cb.ax.tick_params(labelsize = 14)"
      ],
      "execution_count": 115,
      "outputs": [
        {
          "output_type": "display_data",
          "data": {
            "image/png": "[encoded data removed]",
            "text/plain": [
              "<Figure size 1368x1080 with 2 Axes>"
            ]
          },
          "metadata": {
            "tags": [],
            "needs_background": "light"
          }
        }
      ]
    },
    {
      "cell_type": "code",
      "metadata": {
        "colab": {
          "base_uri": "https://localhost:8080/",
          "height": 92
        },
        "id": "xIa4UdgANVwg",
        "outputId": "9369b87b-454c-44a5-8ad4-671bf73167a9"
      },
      "source": [
        "print(df[\"Outcome\"].value_counts())\n",
        "fig = plt.figure(figsize = (10, 6))"
      ],
      "execution_count": 116,
      "outputs": [
        {
          "output_type": "stream",
          "text": [
            "0    500\n",
            "1    268\n",
            "Name: Outcome, dtype: int64\n"
          ],
          "name": "stdout"
        },
        {
          "output_type": "display_data",
          "data": {
            "text/plain": [
              "<Figure size 720x432 with 0 Axes>"
            ]
          },
          "metadata": {
            "tags": []
          }
        }
      ]
    },
    {
      "cell_type": "code",
      "metadata": {
        "colab": {
          "base_uri": "https://localhost:8080/",
          "height": 446
        },
        "id": "pJqMWX9fbLka",
        "outputId": "3195563c-5bb7-4179-ab88-ead8d25c0cfe"
      },
      "source": [
        "fig = plt.figure(figsize = (20,7))\n",
        "df[\"Outcome\"].value_counts().plot(kind=\"pie\").set_title(\"Diabetes Outcome\")"
      ],
      "execution_count": 117,
      "outputs": [
        {
          "output_type": "execute_result",
          "data": {
            "text/plain": [
              "Text(0.5, 1.0, 'Diabetes Outcome')"
            ]
          },
          "metadata": {
            "tags": []
          },
          "execution_count": 117
        },
        {
          "output_type": "display_data",
          "data": {
            "image/png": "[encoded data removed]",
            "text/plain": [
              "<Figure size 1440x504 with 1 Axes>"
            ]
          },
          "metadata": {
            "tags": []
          }
        }
      ]
    },
    {
      "cell_type": "code",
      "metadata": {
        "colab": {
          "base_uri": "https://localhost:8080/",
          "height": 544
        },
        "id": "1hvyKwA3NfdQ",
        "outputId": "8eaa0bb5-5fc0-4704-95a0-af24e99345c8"
      },
      "source": [
        "\n",
        "fig = plt.figure(figsize = (20,7))\n",
        "#plt.hist(df[\"Glucose\"], bins=9)\n",
        "sns.distplot(df[\"Glucose\"],kde=False ,bins=10)\n",
        "#plt.ylim(0,210 )\n",
        "plt.xticks()\n",
        "plt.xlabel(\"Glucose Concentration mg/dL\",fontsize = 15)\n",
        "plt.ylabel(\"Frequency\",fontsize = 15)\n",
        "plt.title(\"Glucose\",fontsize = 20)"
      ],
      "execution_count": 118,
      "outputs": [
        {
          "output_type": "stream",
          "text": [
            "/usr/local/lib/python3.7/dist-packages/seaborn/distributions.py:2557: FutureWarning: `distplot` is a deprecated function and will be removed in a future version. Please adapt your code to use either `displot` (a figure-level function with similar flexibility) or `histplot` (an axes-level function for histograms).\n",
            "  warnings.warn(msg, FutureWarning)\n"
          ],
          "name": "stderr"
        },
        {
          "output_type": "execute_result",
          "data": {
            "text/plain": [
              "Text(0.5, 1.0, 'Glucose')"
            ]
          },
          "metadata": {
            "tags": []
          },
          "execution_count": 118
        },
        {
          "output_type": "display_data",
          "data": {
            "image/png": "[encoded data removed]",
            "text/plain": [
              "<Figure size 1440x504 with 1 Axes>"
            ]
          },
          "metadata": {
            "tags": [],
            "needs_background": "light"
          }
        }
      ]
    },
    {
      "cell_type": "code",
      "metadata": {
        "colab": {
          "base_uri": "https://localhost:8080/",
          "height": 544
        },
        "id": "TcGrxsoFZmgN",
        "outputId": "76244981-6058-440a-bde6-1f9bbdb57db3"
      },
      "source": [
        "fig = plt.figure(figsize = (20,7))\n",
        "\n",
        "sns.distplot(df[\"Glucose\"][df[\"Outcome\"] == 1],kde=False ,bins=10)\n",
        "plt.xticks()\n",
        "plt.xlabel(\"Glucose Concentration mg/dL\",fontsize = 15)\n",
        "plt.ylabel(\"Frequency\",fontsize = 15)\n",
        "plt.title(\"Glucose for Positive\",fontsize = 20)"
      ],
      "execution_count": 119,
      "outputs": [
        {
          "output_type": "stream",
          "text": [
            "/usr/local/lib/python3.7/dist-packages/seaborn/distributions.py:2557: FutureWarning: `distplot` is a deprecated function and will be removed in a future version. Please adapt your code to use either `displot` (a figure-level function with similar flexibility) or `histplot` (an axes-level function for histograms).\n",
            "  warnings.warn(msg, FutureWarning)\n"
          ],
          "name": "stderr"
        },
        {
          "output_type": "execute_result",
          "data": {
            "text/plain": [
              "Text(0.5, 1.0, 'Glucose for Positive')"
            ]
          },
          "metadata": {
            "tags": []
          },
          "execution_count": 119
        },
        {
          "output_type": "display_data",
          "data": {
            "image/png": "[encoded data removed]",
            "text/plain": [
              "<Figure size 1440x504 with 1 Axes>"
            ]
          },
          "metadata": {
            "tags": [],
            "needs_background": "light"
          }
        }
      ]
    },
    {
      "cell_type": "code",
      "metadata": {
        "colab": {
          "base_uri": "https://localhost:8080/",
          "height": 544
        },
        "id": "GC_tO7xSaI7L",
        "outputId": "7c581efb-4da0-4f86-d684-870dc4be2fe7"
      },
      "source": [
        "fig = plt.figure(figsize = (20,7))\n",
        "\n",
        "sns.distplot(df[\"Glucose\"][df[\"Outcome\"] == 0],kde=False ,bins=10)\n",
        "plt.xticks()\n",
        "plt.xlabel(\"Glucose Concentration mg/dL\",fontsize = 15)\n",
        "plt.ylabel(\"Frequency\",fontsize = 15)\n",
        "plt.title(\"Glucose for Negative\",fontsize = 20)"
      ],
      "execution_count": 120,
      "outputs": [
        {
          "output_type": "stream",
          "text": [
            "/usr/local/lib/python3.7/dist-packages/seaborn/distributions.py:2557: FutureWarning: `distplot` is a deprecated function and will be removed in a future version. Please adapt your code to use either `displot` (a figure-level function with similar flexibility) or `histplot` (an axes-level function for histograms).\n",
            "  warnings.warn(msg, FutureWarning)\n"
          ],
          "name": "stderr"
        },
        {
          "output_type": "execute_result",
          "data": {
            "text/plain": [
              "Text(0.5, 1.0, 'Glucose for Negative')"
            ]
          },
          "metadata": {
            "tags": []
          },
          "execution_count": 120
        },
        {
          "output_type": "display_data",
          "data": {
            "image/png": "[encoded data removed]",
            "text/plain": [
              "<Figure size 1440x504 with 1 Axes>"
            ]
          },
          "metadata": {
            "tags": [],
            "needs_background": "light"
          }
        }
      ]
    },
    {
      "cell_type": "code",
      "metadata": {
        "colab": {
          "base_uri": "https://localhost:8080/",
          "height": 544
        },
        "id": "GZMtT0ZaYABX",
        "outputId": "0af5d059-34f4-4c99-b21a-ca52bbde71e0"
      },
      "source": [
        "\n",
        "fig = plt.figure(figsize = (20,7))\n",
        "\n",
        "sns.distplot(df[\"Pregnancies\"][df[\"Outcome\"]==1],kde=False)\n",
        "plt.xticks()\n",
        "plt.xlabel(\"Number of Pregnencies\",fontsize = 15)\n",
        "plt.ylabel(\"Frequency\",fontsize = 15)\n",
        "plt.title(\"Pregnancies for Positive\",fontsize = 20)"
      ],
      "execution_count": 121,
      "outputs": [
        {
          "output_type": "stream",
          "text": [
            "/usr/local/lib/python3.7/dist-packages/seaborn/distributions.py:2557: FutureWarning: `distplot` is a deprecated function and will be removed in a future version. Please adapt your code to use either `displot` (a figure-level function with similar flexibility) or `histplot` (an axes-level function for histograms).\n",
            "  warnings.warn(msg, FutureWarning)\n"
          ],
          "name": "stderr"
        },
        {
          "output_type": "execute_result",
          "data": {
            "text/plain": [
              "Text(0.5, 1.0, 'Pregnancies for Positive')"
            ]
          },
          "metadata": {
            "tags": []
          },
          "execution_count": 121
        },
        {
          "output_type": "display_data",
          "data": {
            "image/png": "[encoded data removed]",
            "text/plain": [
              "<Figure size 1440x504 with 1 Axes>"
            ]
          },
          "metadata": {
            "tags": [],
            "needs_background": "light"
          }
        }
      ]
    },
    {
      "cell_type": "code",
      "metadata": {
        "colab": {
          "base_uri": "https://localhost:8080/",
          "height": 544
        },
        "id": "mpGMj4eaYToS",
        "outputId": "60fd4684-eb28-47a1-b695-9b8c2e717a50"
      },
      "source": [
        "\n",
        "fig = plt.figure(figsize = (20,7))\n",
        "\n",
        "sns.distplot(df[\"BloodPressure\"][df[\"Outcome\"]==1],kde=False)\n",
        "plt.xticks()\n",
        "plt.xlabel(\"Diastolic blood pressure (mm Hg)\",fontsize = 15)\n",
        "plt.ylabel(\"Frequency\",fontsize = 15)\n",
        "plt.title(\"BloodPressure for Positive\",fontsize = 20)"
      ],
      "execution_count": 122,
      "outputs": [
        {
          "output_type": "stream",
          "text": [
            "/usr/local/lib/python3.7/dist-packages/seaborn/distributions.py:2557: FutureWarning: `distplot` is a deprecated function and will be removed in a future version. Please adapt your code to use either `displot` (a figure-level function with similar flexibility) or `histplot` (an axes-level function for histograms).\n",
            "  warnings.warn(msg, FutureWarning)\n"
          ],
          "name": "stderr"
        },
        {
          "output_type": "execute_result",
          "data": {
            "text/plain": [
              "Text(0.5, 1.0, 'BloodPressure for Positive')"
            ]
          },
          "metadata": {
            "tags": []
          },
          "execution_count": 122
        },
        {
          "output_type": "display_data",
          "data": {
            "image/png": "[encoded data removed]",
            "text/plain": [
              "<Figure size 1440x504 with 1 Axes>"
            ]
          },
          "metadata": {
            "tags": [],
            "needs_background": "light"
          }
        }
      ]
    },
    {
      "cell_type": "code",
      "metadata": {
        "colab": {
          "base_uri": "https://localhost:8080/",
          "height": 544
        },
        "id": "krxvCW5uYXeG",
        "outputId": "5c02f778-9b25-4626-bcfa-87e46f1cc6fc"
      },
      "source": [
        "\n",
        "fig = plt.figure(figsize = (20,7))\n",
        "\n",
        "sns.distplot(df[\"SkinThickness\"][df[\"Outcome\"]==1],kde=False)\n",
        "plt.xticks()\n",
        "plt.xlabel(\"Triceps skin fold thickness (mm)\",fontsize = 15)\n",
        "plt.ylabel(\"Frequency\",fontsize = 15)\n",
        "plt.title(\"SkinThickness for Positive\",fontsize = 20)"
      ],
      "execution_count": 123,
      "outputs": [
        {
          "output_type": "stream",
          "text": [
            "/usr/local/lib/python3.7/dist-packages/seaborn/distributions.py:2557: FutureWarning: `distplot` is a deprecated function and will be removed in a future version. Please adapt your code to use either `displot` (a figure-level function with similar flexibility) or `histplot` (an axes-level function for histograms).\n",
            "  warnings.warn(msg, FutureWarning)\n"
          ],
          "name": "stderr"
        },
        {
          "output_type": "execute_result",
          "data": {
            "text/plain": [
              "Text(0.5, 1.0, 'SkinThickness for Positive')"
            ]
          },
          "metadata": {
            "tags": []
          },
          "execution_count": 123
        },
        {
          "output_type": "display_data",
          "data": {
            "image/png": "[encoded data removed]",
            "text/plain": [
              "<Figure size 1440x504 with 1 Axes>"
            ]
          },
          "metadata": {
            "tags": [],
            "needs_background": "light"
          }
        }
      ]
    },
    {
      "cell_type": "code",
      "metadata": {
        "id": "2hjEMCkUYZD4",
        "colab": {
          "base_uri": "https://localhost:8080/",
          "height": 544
        },
        "outputId": "a85ee481-c6a1-4037-a28e-05a0d4dcdec6"
      },
      "source": [
        "\n",
        "fig = plt.figure(figsize = (20,7))\n",
        "\n",
        "sns.distplot(df[\"Insulin\"][df[\"Outcome\"]==1],kde=False)\n",
        "plt.xticks()\n",
        "plt.xlabel(\"serum insulin (mu U/ml)\",fontsize = 15)\n",
        "plt.ylabel(\"Frequency\",fontsize = 15)\n",
        "plt.title(\"Insulin for Positive\",fontsize = 20)"
      ],
      "execution_count": 124,
      "outputs": [
        {
          "output_type": "stream",
          "text": [
            "/usr/local/lib/python3.7/dist-packages/seaborn/distributions.py:2557: FutureWarning: `distplot` is a deprecated function and will be removed in a future version. Please adapt your code to use either `displot` (a figure-level function with similar flexibility) or `histplot` (an axes-level function for histograms).\n",
            "  warnings.warn(msg, FutureWarning)\n"
          ],
          "name": "stderr"
        },
        {
          "output_type": "execute_result",
          "data": {
            "text/plain": [
              "Text(0.5, 1.0, 'Insulin for Positive')"
            ]
          },
          "metadata": {
            "tags": []
          },
          "execution_count": 124
        },
        {
          "output_type": "display_data",
          "data": {
            "image/png": "[encoded data removed]",
            "text/plain": [
              "<Figure size 1440x504 with 1 Axes>"
            ]
          },
          "metadata": {
            "tags": [],
            "needs_background": "light"
          }
        }
      ]
    },
    {
      "cell_type": "code",
      "metadata": {
        "colab": {
          "base_uri": "https://localhost:8080/",
          "height": 544
        },
        "id": "zDxlVvbtbADQ",
        "outputId": "9ddaa782-39ea-449e-e3d5-c583ef77441d"
      },
      "source": [
        "\n",
        "fig = plt.figure(figsize = (20,7))\n",
        "\n",
        "sns.distplot(df[\"BMI\"][df[\"Outcome\"]==1],kde=False)\n",
        "plt.xticks()\n",
        "plt.xlabel(\"Body mass index (weight in kg/(height in m)^2)\",fontsize = 15)\n",
        "plt.ylabel(\"Frequency\",fontsize = 15)\n",
        "plt.title(\"BMI for Positive\",fontsize = 20)"
      ],
      "execution_count": 125,
      "outputs": [
        {
          "output_type": "stream",
          "text": [
            "/usr/local/lib/python3.7/dist-packages/seaborn/distributions.py:2557: FutureWarning: `distplot` is a deprecated function and will be removed in a future version. Please adapt your code to use either `displot` (a figure-level function with similar flexibility) or `histplot` (an axes-level function for histograms).\n",
            "  warnings.warn(msg, FutureWarning)\n"
          ],
          "name": "stderr"
        },
        {
          "output_type": "execute_result",
          "data": {
            "text/plain": [
              "Text(0.5, 1.0, 'BMI for Positive')"
            ]
          },
          "metadata": {
            "tags": []
          },
          "execution_count": 125
        },
        {
          "output_type": "display_data",
          "data": {
            "image/png": "[encoded data removed]",
            "text/plain": [
              "<Figure size 1440x504 with 1 Axes>"
            ]
          },
          "metadata": {
            "tags": [],
            "needs_background": "light"
          }
        }
      ]
    },
    {
      "cell_type": "code",
      "metadata": {
        "colab": {
          "base_uri": "https://localhost:8080/",
          "height": 544
        },
        "id": "ABlbnlk6XuAo",
        "outputId": "e74653d9-4d91-40ad-fced-13e42c3280b0"
      },
      "source": [
        "fig = plt.figure(figsize = (20,7))\n",
        "\n",
        "sns.distplot(df[\"DiabetesPedigreeFunction\"][df[\"Outcome\"]==1],kde=False)\n",
        "plt.xticks()\n",
        "plt.xlabel(\"Diabetes pedigree function\",fontsize = 15)\n",
        "plt.ylabel(\"Frequency\",fontsize = 15)\n",
        "plt.title(\"DiabetesPedigreeFunction for Positive\",fontsize = 20)"
      ],
      "execution_count": 126,
      "outputs": [
        {
          "output_type": "stream",
          "text": [
            "/usr/local/lib/python3.7/dist-packages/seaborn/distributions.py:2557: FutureWarning: `distplot` is a deprecated function and will be removed in a future version. Please adapt your code to use either `displot` (a figure-level function with similar flexibility) or `histplot` (an axes-level function for histograms).\n",
            "  warnings.warn(msg, FutureWarning)\n"
          ],
          "name": "stderr"
        },
        {
          "output_type": "execute_result",
          "data": {
            "text/plain": [
              "Text(0.5, 1.0, 'DiabetesPedigreeFunction for Positive')"
            ]
          },
          "metadata": {
            "tags": []
          },
          "execution_count": 126
        },
        {
          "output_type": "display_data",
          "data": {
            "image/png": "[encoded data removed]",
            "text/plain": [
              "<Figure size 1440x504 with 1 Axes>"
            ]
          },
          "metadata": {
            "tags": [],
            "needs_background": "light"
          }
        }
      ]
    },
    {
      "cell_type": "code",
      "metadata": {
        "colab": {
          "base_uri": "https://localhost:8080/",
          "height": 544
        },
        "id": "ukxxt7GFO_Yl",
        "outputId": "510859f1-4a07-4f50-8e45-6a23c71bf4ce"
      },
      "source": [
        "\n",
        "fig = plt.figure(figsize = (20,7))\n",
        "\n",
        "sns.distplot(df[\"Age\"][df[\"Outcome\"]==1],kde=False)\n",
        "plt.xticks()\n",
        "plt.xlabel(\"Age in yrs\",fontsize = 15)\n",
        "plt.ylabel(\"Frequency\",fontsize = 15)\n",
        "plt.title(\"Age for Positive\",fontsize = 20)"
      ],
      "execution_count": 127,
      "outputs": [
        {
          "output_type": "stream",
          "text": [
            "/usr/local/lib/python3.7/dist-packages/seaborn/distributions.py:2557: FutureWarning: `distplot` is a deprecated function and will be removed in a future version. Please adapt your code to use either `displot` (a figure-level function with similar flexibility) or `histplot` (an axes-level function for histograms).\n",
            "  warnings.warn(msg, FutureWarning)\n"
          ],
          "name": "stderr"
        },
        {
          "output_type": "execute_result",
          "data": {
            "text/plain": [
              "Text(0.5, 1.0, 'Age for Positive')"
            ]
          },
          "metadata": {
            "tags": []
          },
          "execution_count": 127
        },
        {
          "output_type": "display_data",
          "data": {
            "image/png": "[encoded data removed]",
            "text/plain": [
              "<Figure size 1440x504 with 1 Axes>"
            ]
          },
          "metadata": {
            "tags": [],
            "needs_background": "light"
          }
        }
      ]
    },
    {
      "cell_type": "code",
      "metadata": {
        "colab": {
          "base_uri": "https://localhost:8080/"
        },
        "id": "rY6YWVHItpL5",
        "outputId": "d26eef2e-2888-446d-ab73-163a7f66f78b"
      },
      "source": [
        "#Checking for duplicates and removing them\n",
        "df.drop_duplicates(inplace = True)\n",
        "\n",
        "df.shape"
      ],
      "execution_count": 128,
      "outputs": [
        {
          "output_type": "execute_result",
          "data": {
            "text/plain": [
              "(768, 9)"
            ]
          },
          "metadata": {
            "tags": []
          },
          "execution_count": 128
        }
      ]
    },
    {
      "cell_type": "code",
      "metadata": {
        "colab": {
          "base_uri": "https://localhost:8080/"
        },
        "id": "GFUuDnept6Zn",
        "outputId": "715555bc-b4bf-47f9-eb2d-ceb075c78acc"
      },
      "source": [
        "#Show the number of missing (NAN, NaN, na) data for each column\n",
        "df.isnull().sum()"
      ],
      "execution_count": 129,
      "outputs": [
        {
          "output_type": "execute_result",
          "data": {
            "text/plain": [
              "Pregnancies                 0\n",
              "Glucose                     0\n",
              "BloodPressure               0\n",
              "SkinThickness               0\n",
              "Insulin                     0\n",
              "BMI                         0\n",
              "DiabetesPedigreeFunction    0\n",
              "Age                         0\n",
              "Outcome                     0\n",
              "dtype: int64"
            ]
          },
          "metadata": {
            "tags": []
          },
          "execution_count": 129
        }
      ]
    },
    {
      "cell_type": "code",
      "metadata": {
        "id": "CDlb1wM6-u4D"
      },
      "source": [
        "#METHOD 1 COLUMN DELETION\n",
        "#seperating dependent and independent columns\n",
        "\n",
        "\n",
        "X = df.drop([\"Pregnancies\"],axis = 1)\n",
        "y = df.iloc[:,-1]"
      ],
      "execution_count": 130,
      "outputs": []
    },
    {
      "cell_type": "code",
      "metadata": {
        "id": "7A1eIr7_KUaX"
      },
      "source": [
        "#METHOD 2 Replace Mean\n",
        "#replace zeros with mean value\n",
        "\n",
        "#replace_zero = ['Pregnancies','Glucose', 'BloodPressure', 'SkinThickness',  'Insulin','BMI','DiabetesPedigreeFunction' ,\t'Age']\n",
        "#for column in replace_zero:\n",
        " #df[column] = df[column].replace(0, np.NaN) #replace 0 with no data\n",
        " #mean = int(df[column].mean(skipna=True)) #find the mean of the column\n",
        " #df[column] = df[column].replace(np.NaN, mean) #replaces the NaN with mean"
      ],
      "execution_count": 131,
      "outputs": []
    },
    {
      "cell_type": "code",
      "metadata": {
        "colab": {
          "base_uri": "https://localhost:8080/"
        },
        "id": "zB9HZKS9gJUf",
        "outputId": "333b89dd-95b6-4244-b198-8b3304cd1a63"
      },
      "source": [
        "X_train,X_test,y_train,y_test = train_test_split(X,y,test_size = 0.2,random_state=0)\n",
        "\n",
        "print(\"X_train size:\", X_train.shape)\n",
        "print(\"y_train size: \",y_train.shape,\"\\n\")\n",
        "print(\"X_test size:\", X_test.shape)\n",
        "print(\"y_test size:\",y_test.shape)"
      ],
      "execution_count": 132,
      "outputs": [
        {
          "output_type": "stream",
          "text": [
            "X_train size: (614, 8)\n",
            "y_train size:  (614,) \n",
            "\n",
            "X_test size: (154, 8)\n",
            "y_test size: (154,)\n"
          ],
          "name": "stdout"
        }
      ]
    },
    {
      "cell_type": "code",
      "metadata": {
        "id": "6dIJXqfR_pRU"
      },
      "source": [
        "#standard scaling\n",
        "\n",
        "sc= StandardScaler()\n",
        "X_train = sc.fit_transform(X_train)\n",
        "X_test = sc.fit_transform(X_test)"
      ],
      "execution_count": 133,
      "outputs": []
    },
    {
      "cell_type": "code",
      "metadata": {
        "colab": {
          "base_uri": "https://localhost:8080/"
        },
        "id": "xn6Kly4m_s60",
        "outputId": "86c70068-f979-47d1-c9c4-118aab969310"
      },
      "source": [
        "print(sc)"
      ],
      "execution_count": 134,
      "outputs": [
        {
          "output_type": "stream",
          "text": [
            "StandardScaler(copy=True, with_mean=True, with_std=True)\n"
          ],
          "name": "stdout"
        }
      ]
    },
    {
      "cell_type": "code",
      "metadata": {
        "colab": {
          "base_uri": "https://localhost:8080/"
        },
        "id": "eORr8suk_vW0",
        "outputId": "69c9aa56-7c73-43ee-e871-c3dfb081cebb"
      },
      "source": [
        "print(X_train)"
      ],
      "execution_count": 135,
      "outputs": [
        {
          "output_type": "stream",
          "text": [
            "[[ 0.90832902  0.91569367  0.44912368 ...  0.37852648  0.67740401\n",
            "   1.69955804]\n",
            " [ 0.03644676 -0.75182191 -0.47230103 ... -0.50667229 -0.07049698\n",
            "  -0.96569189]\n",
            " [-1.12606292  1.38763205  1.06340683 ...  2.54094063 -0.11855487\n",
            "  -0.88240283]\n",
            " ...\n",
            " [ 0.03644676 -0.84620959 -0.21634972 ... -0.94927168 -0.95656442\n",
            "  -1.04898095]\n",
            " [ 2.0708387  -1.12937261  0.24436264 ... -0.26640405 -0.50001442\n",
            "   0.11706589]\n",
            " [ 0.32707418  0.47521786  0.65388473 ... -4.07275877  0.52121586\n",
            "   2.94889395]]\n"
          ],
          "name": "stdout"
        }
      ]
    },
    {
      "cell_type": "code",
      "metadata": {
        "colab": {
          "base_uri": "https://localhost:8080/"
        },
        "id": "ZeCS6anm_x02",
        "outputId": "8089f133-8088-42f9-d980-089bdade8644"
      },
      "source": [
        "print(X_test)"
      ],
      "execution_count": 136,
      "outputs": [
        {
          "output_type": "stream",
          "text": [
            "[[-0.89295432  2.39507259  0.39763774 ...  1.52657475  2.78935129\n",
            "  -0.93064283]\n",
            " [-0.56553774 -0.42589245  0.2898275  ...  0.31944116 -0.27698825\n",
            "  -0.83598035]\n",
            " [ 0.08929543 -1.37643502 -0.35703388 ...  0.37136088 -0.31725331\n",
            "  -0.64665539]\n",
            " ...\n",
            " [ 0.08929543  0.64730077  0.93668889 ...  1.66935399  0.4694641\n",
            "  -0.93064283]\n",
            " [-0.23812115 -0.14992848  0.2898275  ... -0.62809381 -1.19689011\n",
            "  -0.74131787]\n",
            " [-0.89295432 -0.42589245  0.18201727 ... -0.04399691  1.01459113\n",
            "  -0.74131787]]\n"
          ],
          "name": "stdout"
        }
      ]
    },
    {
      "cell_type": "code",
      "metadata": {
        "colab": {
          "base_uri": "https://localhost:8080/"
        },
        "id": "W8t5PDQo_71U",
        "outputId": "69d51cd8-5077-41c2-b7e9-5bab5096512b"
      },
      "source": [
        "#  1  KNN\n",
        "\n",
        "kn_classifier = KNeighborsClassifier(n_neighbors =5,metric = 'minkowski',p = 2)\n",
        "kn_classifier.fit(X_train,y_train)"
      ],
      "execution_count": 137,
      "outputs": [
        {
          "output_type": "execute_result",
          "data": {
            "text/plain": [
              "KNeighborsClassifier(algorithm='auto', leaf_size=30, metric='minkowski',\n",
              "                     metric_params=None, n_jobs=None, n_neighbors=5, p=2,\n",
              "                     weights='uniform')"
            ]
          },
          "metadata": {
            "tags": []
          },
          "execution_count": 137
        }
      ]
    },
    {
      "cell_type": "code",
      "metadata": {
        "id": "-CaKR1fGABtg"
      },
      "source": [
        "kn_y_pred = kn_classifier.predict(X_test)"
      ],
      "execution_count": 138,
      "outputs": []
    },
    {
      "cell_type": "code",
      "metadata": {
        "colab": {
          "base_uri": "https://localhost:8080/"
        },
        "id": "zz9p4pPdAEFK",
        "outputId": "0fc47ac4-c2b3-48cf-f110-c6a1e70042f9"
      },
      "source": [
        "cm_kn = confusion_matrix(y_test, kn_y_pred)\n",
        "print(cm_kn)"
      ],
      "execution_count": 139,
      "outputs": [
        {
          "output_type": "stream",
          "text": [
            "[[96 11]\n",
            " [17 30]]\n"
          ],
          "name": "stdout"
        }
      ]
    },
    {
      "cell_type": "code",
      "metadata": {
        "colab": {
          "base_uri": "https://localhost:8080/"
        },
        "id": "_qrIsnLuAH3r",
        "outputId": "f71d8a9c-aacb-4111-eca3-0150f2435225"
      },
      "source": [
        "print(\"Correct:\",sum(kn_y_pred == y_test))\n",
        "print(\"Incorrect : \",sum(kn_y_pred != y_test))\n",
        "print(\"Accuracy:\",sum(kn_y_pred ==y_test)/len(kn_y_pred))"
      ],
      "execution_count": 140,
      "outputs": [
        {
          "output_type": "stream",
          "text": [
            "Correct: 126\n",
            "Incorrect :  28\n",
            "Accuracy: 0.8181818181818182\n"
          ],
          "name": "stdout"
        }
      ]
    },
    {
      "cell_type": "code",
      "metadata": {
        "id": "n3o7GLJ_DVN6"
      },
      "source": [
        "#  2  Decision Tree classifer object\n",
        "\n",
        "\n",
        "clf = DecisionTreeClassifier(criterion=\"entropy\", max_depth=11)\n",
        "\n",
        "# Train Decision Tree Classifer\n",
        "clf = clf.fit(X_train,y_train)\n",
        "\n",
        "#Predict the response for test dataset\n",
        "y_pred = clf.predict(X_test)"
      ],
      "execution_count": 141,
      "outputs": []
    },
    {
      "cell_type": "code",
      "metadata": {
        "colab": {
          "base_uri": "https://localhost:8080/"
        },
        "id": "s86oER7oJ4hY",
        "outputId": "0f66977c-cee9-4d75-df09-4a76de417572"
      },
      "source": [
        "cm_dt = confusion_matrix(y_test, y_pred)\n",
        "print(cm_dt)"
      ],
      "execution_count": 142,
      "outputs": [
        {
          "output_type": "stream",
          "text": [
            "[[83 24]\n",
            " [21 26]]\n"
          ],
          "name": "stdout"
        }
      ]
    },
    {
      "cell_type": "code",
      "metadata": {
        "colab": {
          "base_uri": "https://localhost:8080/"
        },
        "id": "vehezhGcD3d2",
        "outputId": "94193a80-e7a8-44ba-eb09-a0535ee202c4"
      },
      "source": [
        "# Model Accuracy, how often is the classifier correct?\n",
        "print(\"Correct:\",sum(y_pred == y_test))\n",
        "print(\"Incorrect : \",sum(y_pred != y_test))\n",
        "print(\"Accuracy:\",metrics.accuracy_score(y_test, y_pred)) "
      ],
      "execution_count": 143,
      "outputs": [
        {
          "output_type": "stream",
          "text": [
            "Correct: 109\n",
            "Incorrect :  45\n",
            "Accuracy: 0.7077922077922078\n"
          ],
          "name": "stdout"
        }
      ]
    },
    {
      "cell_type": "code",
      "metadata": {
        "id": "y9YZ9bZwSMgF"
      },
      "source": [
        "#  3  LR define the model\n",
        "\n",
        "\n",
        "model=LogisticRegression()\n",
        "model.fit(X_train,y_train)\n",
        "lr_y_pred=model.predict(X_test)"
      ],
      "execution_count": 144,
      "outputs": []
    },
    {
      "cell_type": "code",
      "metadata": {
        "colab": {
          "base_uri": "https://localhost:8080/"
        },
        "id": "C56sCnZESwG6",
        "outputId": "b93af9b3-2b77-4509-f774-4a9c0f13cf72"
      },
      "source": [
        "cm_lr = confusion_matrix(y_test, lr_y_pred)\n",
        "print(cm_lr)"
      ],
      "execution_count": 145,
      "outputs": [
        {
          "output_type": "stream",
          "text": [
            "[[94 13]\n",
            " [18 29]]\n"
          ],
          "name": "stdout"
        }
      ]
    },
    {
      "cell_type": "code",
      "metadata": {
        "colab": {
          "base_uri": "https://localhost:8080/"
        },
        "id": "CWr2qg9fTpY9",
        "outputId": "256cdb64-03d3-441e-d555-2e43f96e49a0"
      },
      "source": [
        "print(\"Correct:\",sum(lr_y_pred == y_test))\n",
        "print(\"Incorrect : \",sum(lr_y_pred != y_test))\n",
        "print(\"Accuracy:\",metrics.accuracy_score(y_test, lr_y_pred)) "
      ],
      "execution_count": 146,
      "outputs": [
        {
          "output_type": "stream",
          "text": [
            "Correct: 123\n",
            "Incorrect :  31\n",
            "Accuracy: 0.7987012987012987\n"
          ],
          "name": "stdout"
        }
      ]
    },
    {
      "cell_type": "code",
      "metadata": {
        "id": "T17Z8CObkjI4"
      },
      "source": [
        "#  4  SVM\n",
        "\n",
        "\n",
        "svc_classifier = SVC(kernel =\"linear\",random_state = 0)\n",
        "svc_classifier.fit(X_train,y_train)\n",
        "\n",
        "svc_y_pred = svc_classifier.predict(X_test)"
      ],
      "execution_count": 147,
      "outputs": []
    },
    {
      "cell_type": "code",
      "metadata": {
        "colab": {
          "base_uri": "https://localhost:8080/"
        },
        "id": "mcyemznQkxYX",
        "outputId": "bb5841db-e9cb-4c53-8eca-d36b2033cdc0"
      },
      "source": [
        "svc_cm = confusion_matrix(y_test,svc_y_pred)\n",
        "print(svc_cm)"
      ],
      "execution_count": 148,
      "outputs": [
        {
          "output_type": "stream",
          "text": [
            "[[96 11]\n",
            " [18 29]]\n"
          ],
          "name": "stdout"
        }
      ]
    },
    {
      "cell_type": "code",
      "metadata": {
        "colab": {
          "base_uri": "https://localhost:8080/"
        },
        "id": "i-DNCMtck1LK",
        "outputId": "852e3c1a-3a21-4342-d4f0-c7caba4acb40"
      },
      "source": [
        "print(\"Correct:\",sum(svc_y_pred == y_test))\n",
        "print(\"Incorrect : \",sum(svc_y_pred != y_test))\n",
        "print(\"Accuracy:\",sum(svc_y_pred ==y_test)/len(kn_y_pred))"
      ],
      "execution_count": 149,
      "outputs": [
        {
          "output_type": "stream",
          "text": [
            "Correct: 125\n",
            "Incorrect :  29\n",
            "Accuracy: 0.8116883116883117\n"
          ],
          "name": "stdout"
        }
      ]
    },
    {
      "cell_type": "code",
      "metadata": {
        "id": "J3Hjpy4Qk66m"
      },
      "source": [
        "#  5  naive bayes\n",
        "\n",
        "nb_classifier = GaussianNB()\n",
        "nb_classifier.fit(X_train,y_train)\n",
        "\n",
        "nb_y_pred =nb_classifier.predict(X_test)"
      ],
      "execution_count": 150,
      "outputs": []
    },
    {
      "cell_type": "code",
      "metadata": {
        "colab": {
          "base_uri": "https://localhost:8080/"
        },
        "id": "vTpq_WgwlZDi",
        "outputId": "faf030d1-da9f-485e-91b7-c68d95a7f314"
      },
      "source": [
        "nb_cm = confusion_matrix(nb_y_pred,y_test)\n",
        "print(nb_cm)"
      ],
      "execution_count": 151,
      "outputs": [
        {
          "output_type": "stream",
          "text": [
            "[[87 16]\n",
            " [20 31]]\n"
          ],
          "name": "stdout"
        }
      ]
    },
    {
      "cell_type": "code",
      "metadata": {
        "colab": {
          "base_uri": "https://localhost:8080/"
        },
        "id": "YCtN10KClf8K",
        "outputId": "8dde0826-8ecf-4dc9-f807-4ed170c3787c"
      },
      "source": [
        "print(\"Correct:\",sum(nb_y_pred == y_test))\n",
        "print(\"Incorrect : \",sum(nb_y_pred != y_test))\n",
        "print(\"Accuracy:\",sum(nb_y_pred ==y_test)/len(nb_y_pred))"
      ],
      "execution_count": 152,
      "outputs": [
        {
          "output_type": "stream",
          "text": [
            "Correct: 118\n",
            "Incorrect :  36\n",
            "Accuracy: 0.7662337662337663\n"
          ],
          "name": "stdout"
        }
      ]
    },
    {
      "cell_type": "code",
      "metadata": {
        "id": "-2kRCLr9ok5O"
      },
      "source": [
        "#  6  ANN\n",
        "\n",
        "import keras\n",
        "from keras.models import Sequential\n",
        "from keras.layers import Dense"
      ],
      "execution_count": 153,
      "outputs": []
    },
    {
      "cell_type": "code",
      "metadata": {
        "id": "l3V6z5EbomD8"
      },
      "source": [
        "model = Sequential()\n",
        "\n",
        "model.add(Dense(input_dim = 8, units = 16, activation='relu', kernel_initializer='uniform'))"
      ],
      "execution_count": 154,
      "outputs": []
    },
    {
      "cell_type": "code",
      "metadata": {
        "colab": {
          "base_uri": "https://localhost:8080/"
        },
        "id": "xTCimP5LpJbF",
        "outputId": "d583984c-7672-459f-ef60-947e44fa163b"
      },
      "source": [
        "model.add(Dense(units = 36, activation='relu', kernel_initializer='uniform'))\n",
        "\n",
        "model.add(Dense(units = 1, activation='sigmoid', kernel_initializer='uniform'))\n",
        "\n",
        "model.compile(optimizer='adam', loss='binary_crossentropy', metrics=['accuracy'])\n",
        "\n",
        "model.fit(X_train,y_train,batch_size=500, epochs=50)"
      ],
      "execution_count": 155,
      "outputs": [
        {
          "output_type": "stream",
          "text": [
            "Epoch 1/50\n",
            "2/2 [==============================] - 1s 7ms/step - loss: 0.6933 - accuracy: 0.3960\n",
            "Epoch 2/50\n",
            "2/2 [==============================] - 0s 6ms/step - loss: 0.6927 - accuracy: 0.6674\n",
            "Epoch 3/50\n",
            "2/2 [==============================] - 0s 7ms/step - loss: 0.6922 - accuracy: 0.6481\n",
            "Epoch 4/50\n",
            "2/2 [==============================] - 0s 6ms/step - loss: 0.6916 - accuracy: 0.6407\n",
            "Epoch 5/50\n",
            "2/2 [==============================] - 0s 9ms/step - loss: 0.6911 - accuracy: 0.6383\n",
            "Epoch 6/50\n",
            "2/2 [==============================] - 0s 7ms/step - loss: 0.6904 - accuracy: 0.6440\n",
            "Epoch 7/50\n",
            "2/2 [==============================] - 0s 6ms/step - loss: 0.6896 - accuracy: 0.6491\n",
            "Epoch 8/50\n",
            "2/2 [==============================] - 0s 7ms/step - loss: 0.6890 - accuracy: 0.6496\n",
            "Epoch 9/50\n",
            "2/2 [==============================] - 0s 6ms/step - loss: 0.6881 - accuracy: 0.6657\n",
            "Epoch 10/50\n",
            "2/2 [==============================] - 0s 5ms/step - loss: 0.6871 - accuracy: 0.6747\n",
            "Epoch 11/50\n",
            "2/2 [==============================] - 0s 6ms/step - loss: 0.6861 - accuracy: 0.6854\n",
            "Epoch 12/50\n",
            "2/2 [==============================] - 0s 7ms/step - loss: 0.6849 - accuracy: 0.6970\n",
            "Epoch 13/50\n",
            "2/2 [==============================] - 0s 9ms/step - loss: 0.6836 - accuracy: 0.7016\n",
            "Epoch 14/50\n",
            "2/2 [==============================] - 0s 6ms/step - loss: 0.6823 - accuracy: 0.7081\n",
            "Epoch 15/50\n",
            "2/2 [==============================] - 0s 7ms/step - loss: 0.6807 - accuracy: 0.7212\n",
            "Epoch 16/50\n",
            "2/2 [==============================] - 0s 6ms/step - loss: 0.6789 - accuracy: 0.7298\n",
            "Epoch 17/50\n",
            "2/2 [==============================] - 0s 8ms/step - loss: 0.6767 - accuracy: 0.7324\n",
            "Epoch 18/50\n",
            "2/2 [==============================] - 0s 7ms/step - loss: 0.6750 - accuracy: 0.7374\n",
            "Epoch 19/50\n",
            "2/2 [==============================] - 0s 6ms/step - loss: 0.6724 - accuracy: 0.7411\n",
            "Epoch 20/50\n",
            "2/2 [==============================] - 0s 6ms/step - loss: 0.6693 - accuracy: 0.7526\n",
            "Epoch 21/50\n",
            "2/2 [==============================] - 0s 7ms/step - loss: 0.6669 - accuracy: 0.7525\n",
            "Epoch 22/50\n",
            "2/2 [==============================] - 0s 11ms/step - loss: 0.6639 - accuracy: 0.7468\n",
            "Epoch 23/50\n",
            "2/2 [==============================] - 0s 5ms/step - loss: 0.6610 - accuracy: 0.7492\n",
            "Epoch 24/50\n",
            "2/2 [==============================] - 0s 5ms/step - loss: 0.6571 - accuracy: 0.7444\n",
            "Epoch 25/50\n",
            "2/2 [==============================] - 0s 14ms/step - loss: 0.6531 - accuracy: 0.7484\n",
            "Epoch 26/50\n",
            "2/2 [==============================] - 0s 6ms/step - loss: 0.6490 - accuracy: 0.7470\n",
            "Epoch 27/50\n",
            "2/2 [==============================] - 0s 6ms/step - loss: 0.6445 - accuracy: 0.7435\n",
            "Epoch 28/50\n",
            "2/2 [==============================] - 0s 7ms/step - loss: 0.6397 - accuracy: 0.7477\n",
            "Epoch 29/50\n",
            "2/2 [==============================] - 0s 6ms/step - loss: 0.6349 - accuracy: 0.7499\n",
            "Epoch 30/50\n",
            "2/2 [==============================] - 0s 10ms/step - loss: 0.6292 - accuracy: 0.7516\n",
            "Epoch 31/50\n",
            "2/2 [==============================] - 0s 10ms/step - loss: 0.6235 - accuracy: 0.7523\n",
            "Epoch 32/50\n",
            "2/2 [==============================] - 0s 5ms/step - loss: 0.6175 - accuracy: 0.7585\n",
            "Epoch 33/50\n",
            "2/2 [==============================] - 0s 8ms/step - loss: 0.6124 - accuracy: 0.7500\n",
            "Epoch 34/50\n",
            "2/2 [==============================] - 0s 4ms/step - loss: 0.6058 - accuracy: 0.7560\n",
            "Epoch 35/50\n",
            "2/2 [==============================] - 0s 5ms/step - loss: 0.5983 - accuracy: 0.7631\n",
            "Epoch 36/50\n",
            "2/2 [==============================] - 0s 9ms/step - loss: 0.5942 - accuracy: 0.7534\n",
            "Epoch 37/50\n",
            "2/2 [==============================] - 0s 11ms/step - loss: 0.5877 - accuracy: 0.7560\n",
            "Epoch 38/50\n",
            "2/2 [==============================] - 0s 6ms/step - loss: 0.5795 - accuracy: 0.7570\n",
            "Epoch 39/50\n",
            "2/2 [==============================] - 0s 13ms/step - loss: 0.5762 - accuracy: 0.7485\n",
            "Epoch 40/50\n",
            "2/2 [==============================] - 0s 9ms/step - loss: 0.5678 - accuracy: 0.7563\n",
            "Epoch 41/50\n",
            "2/2 [==============================] - 0s 7ms/step - loss: 0.5627 - accuracy: 0.7532\n",
            "Epoch 42/50\n",
            "2/2 [==============================] - 0s 6ms/step - loss: 0.5578 - accuracy: 0.7527\n",
            "Epoch 43/50\n",
            "2/2 [==============================] - 0s 10ms/step - loss: 0.5514 - accuracy: 0.7514\n",
            "Epoch 44/50\n",
            "2/2 [==============================] - 0s 20ms/step - loss: 0.5453 - accuracy: 0.7556\n",
            "Epoch 45/50\n",
            "2/2 [==============================] - 0s 7ms/step - loss: 0.5393 - accuracy: 0.7569\n",
            "Epoch 46/50\n",
            "2/2 [==============================] - 0s 6ms/step - loss: 0.5357 - accuracy: 0.7553\n",
            "Epoch 47/50\n",
            "2/2 [==============================] - 0s 6ms/step - loss: 0.5267 - accuracy: 0.7672\n",
            "Epoch 48/50\n",
            "2/2 [==============================] - 0s 5ms/step - loss: 0.5264 - accuracy: 0.7621\n",
            "Epoch 49/50\n",
            "2/2 [==============================] - 0s 6ms/step - loss: 0.5194 - accuracy: 0.7627\n",
            "Epoch 50/50\n",
            "2/2 [==============================] - 0s 14ms/step - loss: 0.5123 - accuracy: 0.7674\n"
          ],
          "name": "stdout"
        },
        {
          "output_type": "execute_result",
          "data": {
            "text/plain": [
              "<keras.callbacks.History at 0x7f500a406950>"
            ]
          },
          "metadata": {
            "tags": []
          },
          "execution_count": 155
        }
      ]
    },
    {
      "cell_type": "code",
      "metadata": {
        "colab": {
          "base_uri": "https://localhost:8080/"
        },
        "id": "GCPIwFLGqJhG",
        "outputId": "46b64f64-e883-4128-c700-2275e91f674b"
      },
      "source": [
        "model.evaluate(X_test,y_test) "
      ],
      "execution_count": 156,
      "outputs": [
        {
          "output_type": "stream",
          "text": [
            "5/5 [==============================] - 0s 3ms/step - loss: 0.4771 - accuracy: 0.7987\n"
          ],
          "name": "stdout"
        },
        {
          "output_type": "execute_result",
          "data": {
            "text/plain": [
              "[0.4771439731121063, 0.798701286315918]"
            ]
          },
          "metadata": {
            "tags": []
          },
          "execution_count": 156
        }
      ]
    }
  ]
}